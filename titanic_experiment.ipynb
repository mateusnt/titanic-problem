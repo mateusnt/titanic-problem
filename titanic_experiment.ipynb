{
 "cells": [
  {
   "cell_type": "code",
   "execution_count": 7,
   "id": "2a6c8ed0-147c-47cd-a7ba-d7ed9f56ca2f",
   "metadata": {},
   "outputs": [],
   "source": [
    "import pandas as pd\n",
    "import numpy as np\n",
    "import matplotlib.pyplot as plt\n",
    "\n",
    "# Get the data\n",
    "trainData = pd.read_csv('train.csv')\n",
    "testData = pd.read_csv('test.csv')"
   ]
  },
  {
   "cell_type": "code",
   "execution_count": 8,
   "id": "c5be1b49",
   "metadata": {},
   "outputs": [
    {
     "data": {
      "text/html": [
       "<div>\n",
       "<style scoped>\n",
       "    .dataframe tbody tr th:only-of-type {\n",
       "        vertical-align: middle;\n",
       "    }\n",
       "\n",
       "    .dataframe tbody tr th {\n",
       "        vertical-align: top;\n",
       "    }\n",
       "\n",
       "    .dataframe thead th {\n",
       "        text-align: right;\n",
       "    }\n",
       "</style>\n",
       "<table border=\"1\" class=\"dataframe\">\n",
       "  <thead>\n",
       "    <tr style=\"text-align: right;\">\n",
       "      <th></th>\n",
       "      <th>PassengerId</th>\n",
       "      <th>Survived</th>\n",
       "      <th>Pclass</th>\n",
       "      <th>Age</th>\n",
       "      <th>SibSp</th>\n",
       "      <th>Parch</th>\n",
       "      <th>Fare</th>\n",
       "    </tr>\n",
       "  </thead>\n",
       "  <tbody>\n",
       "    <tr>\n",
       "      <th>count</th>\n",
       "      <td>891.000000</td>\n",
       "      <td>891.000000</td>\n",
       "      <td>891.000000</td>\n",
       "      <td>714.000000</td>\n",
       "      <td>891.000000</td>\n",
       "      <td>891.000000</td>\n",
       "      <td>891.000000</td>\n",
       "    </tr>\n",
       "    <tr>\n",
       "      <th>mean</th>\n",
       "      <td>446.000000</td>\n",
       "      <td>0.383838</td>\n",
       "      <td>2.308642</td>\n",
       "      <td>29.699118</td>\n",
       "      <td>0.523008</td>\n",
       "      <td>0.381594</td>\n",
       "      <td>32.204208</td>\n",
       "    </tr>\n",
       "    <tr>\n",
       "      <th>std</th>\n",
       "      <td>257.353842</td>\n",
       "      <td>0.486592</td>\n",
       "      <td>0.836071</td>\n",
       "      <td>14.526497</td>\n",
       "      <td>1.102743</td>\n",
       "      <td>0.806057</td>\n",
       "      <td>49.693429</td>\n",
       "    </tr>\n",
       "    <tr>\n",
       "      <th>min</th>\n",
       "      <td>1.000000</td>\n",
       "      <td>0.000000</td>\n",
       "      <td>1.000000</td>\n",
       "      <td>0.420000</td>\n",
       "      <td>0.000000</td>\n",
       "      <td>0.000000</td>\n",
       "      <td>0.000000</td>\n",
       "    </tr>\n",
       "    <tr>\n",
       "      <th>25%</th>\n",
       "      <td>223.500000</td>\n",
       "      <td>0.000000</td>\n",
       "      <td>2.000000</td>\n",
       "      <td>20.125000</td>\n",
       "      <td>0.000000</td>\n",
       "      <td>0.000000</td>\n",
       "      <td>7.910400</td>\n",
       "    </tr>\n",
       "    <tr>\n",
       "      <th>50%</th>\n",
       "      <td>446.000000</td>\n",
       "      <td>0.000000</td>\n",
       "      <td>3.000000</td>\n",
       "      <td>28.000000</td>\n",
       "      <td>0.000000</td>\n",
       "      <td>0.000000</td>\n",
       "      <td>14.454200</td>\n",
       "    </tr>\n",
       "    <tr>\n",
       "      <th>75%</th>\n",
       "      <td>668.500000</td>\n",
       "      <td>1.000000</td>\n",
       "      <td>3.000000</td>\n",
       "      <td>38.000000</td>\n",
       "      <td>1.000000</td>\n",
       "      <td>0.000000</td>\n",
       "      <td>31.000000</td>\n",
       "    </tr>\n",
       "    <tr>\n",
       "      <th>max</th>\n",
       "      <td>891.000000</td>\n",
       "      <td>1.000000</td>\n",
       "      <td>3.000000</td>\n",
       "      <td>80.000000</td>\n",
       "      <td>8.000000</td>\n",
       "      <td>6.000000</td>\n",
       "      <td>512.329200</td>\n",
       "    </tr>\n",
       "  </tbody>\n",
       "</table>\n",
       "</div>"
      ],
      "text/plain": [
       "       PassengerId    Survived      Pclass         Age       SibSp  \\\n",
       "count   891.000000  891.000000  891.000000  714.000000  891.000000   \n",
       "mean    446.000000    0.383838    2.308642   29.699118    0.523008   \n",
       "std     257.353842    0.486592    0.836071   14.526497    1.102743   \n",
       "min       1.000000    0.000000    1.000000    0.420000    0.000000   \n",
       "25%     223.500000    0.000000    2.000000   20.125000    0.000000   \n",
       "50%     446.000000    0.000000    3.000000   28.000000    0.000000   \n",
       "75%     668.500000    1.000000    3.000000   38.000000    1.000000   \n",
       "max     891.000000    1.000000    3.000000   80.000000    8.000000   \n",
       "\n",
       "            Parch        Fare  \n",
       "count  891.000000  891.000000  \n",
       "mean     0.381594   32.204208  \n",
       "std      0.806057   49.693429  \n",
       "min      0.000000    0.000000  \n",
       "25%      0.000000    7.910400  \n",
       "50%      0.000000   14.454200  \n",
       "75%      0.000000   31.000000  \n",
       "max      6.000000  512.329200  "
      ]
     },
     "execution_count": 8,
     "metadata": {},
     "output_type": "execute_result"
    }
   ],
   "source": [
    "trainData.describe()"
   ]
  },
  {
   "cell_type": "code",
   "execution_count": 9,
   "id": "1bda8c4c",
   "metadata": {},
   "outputs": [
    {
     "data": {
      "text/plain": [
       "PassengerId      0\n",
       "Survived         0\n",
       "Pclass           0\n",
       "Name             0\n",
       "Sex              0\n",
       "Age            177\n",
       "SibSp            0\n",
       "Parch            0\n",
       "Ticket           0\n",
       "Fare             0\n",
       "Cabin          687\n",
       "Embarked         2\n",
       "dtype: int64"
      ]
     },
     "execution_count": 9,
     "metadata": {},
     "output_type": "execute_result"
    }
   ],
   "source": [
    "trainData.isnull().sum()"
   ]
  },
  {
   "cell_type": "code",
   "execution_count": 11,
   "id": "dbf89492",
   "metadata": {},
   "outputs": [
    {
     "data": {
      "text/plain": [
       "(array([ 54.,  46., 177., 169., 118.,  70.,  45.,  24.,   9.,   2.]),\n",
       " array([ 0.42 ,  8.378, 16.336, 24.294, 32.252, 40.21 , 48.168, 56.126,\n",
       "        64.084, 72.042, 80.   ]),\n",
       " <BarContainer object of 10 artists>)"
      ]
     },
     "execution_count": 11,
     "metadata": {},
     "output_type": "execute_result"
    },
    {
     "data": {
      "image/png": "[encoded data removed]",
      "text/plain": [
       "<Figure size 432x288 with 1 Axes>"
      ]
     },
     "metadata": {
      "needs_background": "light"
     },
     "output_type": "display_data"
    }
   ],
   "source": [
    "plt.hist(trainData['Age'])"
   ]
  },
  {
   "cell_type": "code",
   "execution_count": 12,
   "id": "f0e3febc",
   "metadata": {},
   "outputs": [],
   "source": [
    "trainData['Age'].fillna(trainData['Age'].mean(), inplace = True)"
   ]
  },
  {
   "cell_type": "code",
   "execution_count": 13,
   "id": "07a882c7",
   "metadata": {},
   "outputs": [],
   "source": [
    "trainData.dropna(subset = ['Embarked'], inplace=True)"
   ]
  },
  {
   "cell_type": "code",
   "execution_count": 14,
   "id": "9f703791",
   "metadata": {},
   "outputs": [
    {
     "data": {
      "text/plain": [
       "PassengerId      0\n",
       "Survived         0\n",
       "Pclass           0\n",
       "Name             0\n",
       "Sex              0\n",
       "Age              0\n",
       "SibSp            0\n",
       "Parch            0\n",
       "Ticket           0\n",
       "Fare             0\n",
       "Cabin          687\n",
       "Embarked         0\n",
       "dtype: int64"
      ]
     },
     "execution_count": 14,
     "metadata": {},
     "output_type": "execute_result"
    }
   ],
   "source": [
    "trainData.isnull().sum()"
   ]
  },
  {
   "cell_type": "code",
   "execution_count": 15,
   "id": "ad0ad9c7",
   "metadata": {},
   "outputs": [],
   "source": [
    "var = ['Pclass', 'Sex', 'Age', 'SibSp', 'Parch', 'Fare', 'Embarked']"
   ]
  },
  {
   "cell_type": "code",
   "execution_count": 16,
   "id": "3614e73f",
   "metadata": {},
   "outputs": [],
   "source": [
    "X_train = trainData[var].values"
   ]
  },
  {
   "cell_type": "code",
   "execution_count": 17,
   "id": "242a111e",
   "metadata": {},
   "outputs": [
    {
     "data": {
      "text/plain": [
       "array([[3, 'male', 22.0, ..., 0, 7.25, 'S'],\n",
       "       [1, 'female', 38.0, ..., 0, 71.2833, 'C'],\n",
       "       [3, 'female', 26.0, ..., 0, 7.925, 'S'],\n",
       "       ...,\n",
       "       [3, 'female', 29.69911764705882, ..., 2, 23.45, 'S'],\n",
       "       [1, 'male', 26.0, ..., 0, 30.0, 'C'],\n",
       "       [3, 'male', 32.0, ..., 0, 7.75, 'Q']], dtype=object)"
      ]
     },
     "execution_count": 17,
     "metadata": {},
     "output_type": "execute_result"
    }
   ],
   "source": [
    "X_train"
   ]
  },
  {
   "cell_type": "code",
   "execution_count": 18,
   "id": "69437f04",
   "metadata": {},
   "outputs": [],
   "source": [
    "from sklearn.preprocessing import LabelEncoder\n",
    "\n",
    "label_encoder_Pclass = LabelEncoder()\n",
    "label_encoder_Sex = LabelEncoder()\n",
    "label_encoder_Embarked = LabelEncoder()\n",
    "\n",
    "X_train[:, 1] = label_encoder_Sex.fit_transform(X_train[:, 1])\n",
    "X_train[:, 0] = label_encoder_Pclass.fit_transform(X_train[:, 0])\n",
    "X_train[:, 6] = label_encoder_Embarked.fit_transform(X_train[:, 6])"
   ]
  },
  {
   "cell_type": "code",
   "execution_count": 19,
   "id": "7c02fcdf",
   "metadata": {},
   "outputs": [],
   "source": [
    "y_train = trainData['Survived']"
   ]
  },
  {
   "cell_type": "code",
   "execution_count": 20,
   "id": "6b8bb11e",
   "metadata": {},
   "outputs": [
    {
     "data": {
      "text/plain": [
       "0      0\n",
       "1      1\n",
       "2      1\n",
       "3      1\n",
       "4      0\n",
       "      ..\n",
       "886    0\n",
       "887    1\n",
       "888    0\n",
       "889    1\n",
       "890    0\n",
       "Name: Survived, Length: 889, dtype: int64"
      ]
     },
     "execution_count": 20,
     "metadata": {},
     "output_type": "execute_result"
    }
   ],
   "source": [
    "y_train"
   ]
  },
  {
   "cell_type": "markdown",
   "id": "da340612-c4c2-40e9-96ed-4cf672e13ba8",
   "metadata": {},
   "source": [
    "## Train"
   ]
  },
  {
   "cell_type": "code",
   "execution_count": 93,
   "id": "eb5678bb-a330-4dc0-8660-99131c2f2b54",
   "metadata": {},
   "outputs": [],
   "source": [
    "from sklearn.model_selection import train_test_split\n",
    "\n",
    "X_1, X_2, y_1, y_2 = train_test_split(X_train, y_train, test_size = 0.5, random_state=0)"
   ]
  },
  {
   "cell_type": "code",
   "execution_count": 94,
   "id": "9689a3f0",
   "metadata": {},
   "outputs": [
    {
     "data": {
      "text/plain": [
       "DecisionTreeClassifier(criterion='entropy', random_state=0)"
      ]
     },
     "execution_count": 94,
     "metadata": {},
     "output_type": "execute_result"
    }
   ],
   "source": [
    "# Import do algoritmo\n",
    "\n",
    "from sklearn.tree import DecisionTreeClassifier\n",
    "\n",
    "#tree_survived = DecisionTreeClassifier(criterion='entropy', max_depth=3, random_state=0)\n",
    "tree_survived = DecisionTreeClassifier(criterion='entropy', min_samples_leaf=8, random_state=0)\n",
    "tree_survived.fit(X_1, y_1)"
   ]
  },
  {
   "cell_type": "markdown",
   "id": "d21046ab-77fe-40be-af84-a04adaf6e2b1",
   "metadata": {},
   "source": [
    "## Validation"
   ]
  },
  {
   "cell_type": "code",
   "execution_count": 95,
   "id": "207c69cb-28c2-43f9-961b-f40093153b7a",
   "metadata": {},
   "outputs": [
    {
     "data": {
      "text/plain": [
       "0.7707865168539326"
      ]
     },
     "execution_count": 95,
     "metadata": {},
     "output_type": "execute_result"
    }
   ],
   "source": [
    "from sklearn.metrics import accuracy_score\n",
    "\n",
    "result = tree_survived.predict(X_2)\n",
    "accuracy_score(y_2, result)"
   ]
  },
  {
   "cell_type": "markdown",
   "id": "e36da0a0-8f21-4853-8748-92f24a4d73a2",
   "metadata": {},
   "source": [
    "## Teste"
   ]
  },
  {
   "cell_type": "code",
   "execution_count": 22,
   "id": "a96190b9",
   "metadata": {},
   "outputs": [],
   "source": [
    "X_prev = testData[var]"
   ]
  },
  {
   "cell_type": "code",
   "execution_count": 23,
   "id": "a90a95c8",
   "metadata": {},
   "outputs": [
    {
     "name": "stderr",
     "output_type": "stream",
     "text": [
      "/home/mateus/anaconda3/lib/python3.9/site-packages/pandas/core/generic.py:6392: SettingWithCopyWarning: \n",
      "A value is trying to be set on a copy of a slice from a DataFrame\n",
      "\n",
      "See the caveats in the documentation: https://pandas.pydata.org/pandas-docs/stable/user_guide/indexing.html#returning-a-view-versus-a-copy\n",
      "  return self._update_inplace(result)\n"
     ]
    }
   ],
   "source": [
    "X_prev['Age'].fillna(X_prev['Age'].mean(), inplace = True)\n",
    "X_prev['Fare'].fillna(X_prev['Fare'].mean(), inplace = True)"
   ]
  },
  {
   "cell_type": "code",
   "execution_count": 24,
   "id": "9e0bd1ab",
   "metadata": {},
   "outputs": [
    {
     "name": "stderr",
     "output_type": "stream",
     "text": [
      "/home/mateus/anaconda3/lib/python3.9/site-packages/pandas/core/indexing.py:1773: SettingWithCopyWarning: \n",
      "A value is trying to be set on a copy of a slice from a DataFrame.\n",
      "Try using .loc[row_indexer,col_indexer] = value instead\n",
      "\n",
      "See the caveats in the documentation: https://pandas.pydata.org/pandas-docs/stable/user_guide/indexing.html#returning-a-view-versus-a-copy\n",
      "  self._setitem_single_column(ilocs[0], value, pi)\n"
     ]
    }
   ],
   "source": [
    "label_encoder_Pclass = LabelEncoder()\n",
    "label_encoder_Sex = LabelEncoder()\n",
    "label_encoder_Embarked = LabelEncoder()\n",
    "\n",
    "X_prev.iloc[:, 1] = label_encoder_Sex.fit_transform(X_prev.iloc[:, 1])\n",
    "X_prev.iloc[:, 0] = label_encoder_Pclass.fit_transform(X_prev.iloc[:, 0])\n",
    "X_prev.iloc[:, 6] = label_encoder_Embarked.fit_transform(X_prev.iloc[:, 6])"
   ]
  },
  {
   "cell_type": "code",
   "execution_count": 25,
   "id": "4a0a3deb",
   "metadata": {},
   "outputs": [],
   "source": [
    "p = tree_survived.predict(X_prev)"
   ]
  },
  {
   "cell_type": "code",
   "execution_count": 26,
   "id": "14244fff",
   "metadata": {},
   "outputs": [],
   "source": [
    "# Max_depth\n",
    "# None Accuracy = 0.758427 Error = 0.4915\n",
    "# 1 Accuracy = 0.831461 Error = 0.4105\n",
    "# 2 Accuracy = 0.747191 Error = 0.5028\n",
    "# 3 Accuracy = 0.848315 Error = 0.3894\n",
    "# 5 Accuracy = 0.831461 Error = 0.4105\n",
    "# 8 Accuracy = 0.820225 Error = 0.4239\n",
    "# 13 Accuracy = 0.775281 Error = 0.4740\n",
    "\n",
    "# min_samples_leaf\n",
    "# 2 Accuracy = 0.764045 Error = 0.4857\n",
    "# 3 Accuracy = 0.797753 Error = 0.4497\n",
    "# 5 Accuracy = 0.837079 Error = 0.4036\n",
    "# 8 Accuracy = 0.848315 Error = 0.3894\n",
    "# 13 Accuracy = 0.825843 Error = 0.4173"
   ]
  },
  {
   "cell_type": "markdown",
   "id": "e370dc1a-5f9c-4cb4-9c72-9d77733e8335",
   "metadata": {},
   "source": [
    "## Train Random Forest"
   ]
  },
  {
   "cell_type": "code",
   "execution_count": 74,
   "id": "c1226c4d-bf83-44b1-ac7a-df02a54ca011",
   "metadata": {},
   "outputs": [],
   "source": [
    "from sklearn.model_selection import train_test_split\n",
    "\n",
    "X_1, X_2, y_1, y_2 = train_test_split(X_train, y_train, test_size = 0.5, random_state=0)"
   ]
  },
  {
   "cell_type": "code",
   "execution_count": 75,
   "id": "0cfa7b62",
   "metadata": {},
   "outputs": [
    {
     "data": {
      "text/plain": [
       "RandomForestClassifier(max_features=2, min_samples_leaf=2, n_estimators=10,\n",
       "                       random_state=0)"
      ]
     },
     "execution_count": 75,
     "metadata": {},
     "output_type": "execute_result"
    }
   ],
   "source": [
    "# Experimento utilizando randomforest\n",
    "\n",
    "from sklearn.ensemble import RandomForestClassifier\n",
    "\n",
    "forest_survived = RandomForestClassifier(n_estimators=10, min_samples_leaf=2,\n",
    "                                        random_state=0, max_features=2)\n",
    "forest_survived.fit(X_train, y_train)"
   ]
  },
  {
   "cell_type": "markdown",
   "id": "b3268fe7-ec70-4014-af35-501fc26eb56e",
   "metadata": {},
   "source": [
    "## Validation"
   ]
  },
  {
   "cell_type": "code",
   "execution_count": 76,
   "id": "7c2678f0-f4ec-46b2-a1b6-24d3eb5a7d88",
   "metadata": {},
   "outputs": [
    {
     "data": {
      "text/plain": [
       "0.8898876404494382"
      ]
     },
     "execution_count": 76,
     "metadata": {},
     "output_type": "execute_result"
    }
   ],
   "source": [
    "from sklearn.metrics import accuracy_score\n",
    "\n",
    "result_rf = forest_survived.predict(X_2)\n",
    "accuracy_score(y_2, result_rf)"
   ]
  },
  {
   "cell_type": "code",
   "execution_count": 77,
   "id": "890741da",
   "metadata": {},
   "outputs": [],
   "source": [
    "p = forest_survived.predict(X_prev)"
   ]
  },
  {
   "cell_type": "markdown",
   "id": "6d3a1c10-0f41-4439-9ec2-c580f1fb28a0",
   "metadata": {},
   "source": [
    "## Train Logistic Regression"
   ]
  },
  {
   "cell_type": "code",
   "execution_count": 71,
   "id": "740ed2f6-8eb2-410f-8c42-603dbe856b87",
   "metadata": {},
   "outputs": [],
   "source": [
    "from sklearn.model_selection import train_test_split\n",
    "\n",
    "X_1, X_2, y_1, y_2 = train_test_split(X_train, y_train, test_size = 0.5, random_state=0)"
   ]
  },
  {
   "cell_type": "code",
   "execution_count": 72,
   "id": "78021a6f-5496-4929-a82f-772c23b89068",
   "metadata": {},
   "outputs": [
    {
     "data": {
      "text/plain": [
       "LogisticRegression()"
      ]
     },
     "execution_count": 72,
     "metadata": {},
     "output_type": "execute_result"
    }
   ],
   "source": [
    "from sklearn.linear_model import LogisticRegression\n",
    "\n",
    "rl_survived = LogisticRegression()\n",
    "rl_survived.fit(X_train, y_train)"
   ]
  },
  {
   "cell_type": "markdown",
   "id": "963493a6-62ed-415f-9606-63d7dfd2d6df",
   "metadata": {},
   "source": [
    "## Validation"
   ]
  },
  {
   "cell_type": "code",
   "execution_count": 73,
   "id": "843e7959-afd3-4d50-a8b4-b85588cc5f67",
   "metadata": {},
   "outputs": [
    {
     "data": {
      "text/plain": [
       "0.7910112359550562"
      ]
     },
     "execution_count": 73,
     "metadata": {},
     "output_type": "execute_result"
    }
   ],
   "source": [
    "from sklearn.metrics import accuracy_score\n",
    "\n",
    "result_rl = rl_survived.predict(X_2)\n",
    "accuracy_score(y_2, result_rl)"
   ]
  },
  {
   "cell_type": "code",
   "execution_count": 31,
   "id": "efd31060-7c2e-4a03-99db-08cf6992d5c8",
   "metadata": {},
   "outputs": [],
   "source": [
    "p = forest_survived.predict(X_prev)"
   ]
  },
  {
   "cell_type": "markdown",
   "id": "cc9d5e31",
   "metadata": {},
   "source": [
    "## Submission"
   ]
  },
  {
   "cell_type": "code",
   "execution_count": 78,
   "id": "3bc0ab1f",
   "metadata": {},
   "outputs": [],
   "source": [
    "sub = pd.Series(p, index=testData['PassengerId'], name='Survived')"
   ]
  },
  {
   "cell_type": "code",
   "execution_count": 79,
   "id": "3c611adc",
   "metadata": {},
   "outputs": [
    {
     "data": {
      "text/plain": [
       "PassengerId\n",
       "892    0\n",
       "893    0\n",
       "894    0\n",
       "895    0\n",
       "896    0\n",
       "Name: Survived, dtype: int64"
      ]
     },
     "execution_count": 79,
     "metadata": {},
     "output_type": "execute_result"
    }
   ],
   "source": [
    "sub.head()"
   ]
  },
  {
   "cell_type": "code",
   "execution_count": 80,
   "id": "467bec83",
   "metadata": {},
   "outputs": [],
   "source": [
    "sub.to_csv('quarto_modelo.csv',header=True)"
   ]
  }
 ],
 "metadata": {
  "kernelspec": {
   "display_name": "Python 3 (ipykernel)",
   "language": "python",
   "name": "python3"
  },
  "language_info": {
   "codemirror_mode": {
    "name": "ipython",
    "version": 3
   },
   "file_extension": ".py",
   "mimetype": "text/x-python",
   "name": "python",
   "nbconvert_exporter": "python",
   "pygments_lexer": "ipython3",
   "version": "3.9.7"
  }
 },
 "nbformat": 4,
 "nbformat_minor": 5
}
